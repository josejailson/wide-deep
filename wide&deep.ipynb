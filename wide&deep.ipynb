{
  "nbformat": 4,
  "nbformat_minor": 0,
  "metadata": {
    "colab": {
      "provenance": [],
      "authorship_tag": "ABX9TyO1rpIFRxKDIMNbBlfA6NSD",
      "include_colab_link": true
    },
    "kernelspec": {
      "name": "python3",
      "display_name": "Python 3"
    },
    "language_info": {
      "name": "python"
    }
  },
  "cells": [
    {
      "cell_type": "markdown",
      "metadata": {
        "id": "view-in-github",
        "colab_type": "text"
      },
      "source": [
        "<a href=\"https://colab.research.google.com/github/josejailson/wide-deep/blob/main/wide%26deep.ipynb\" target=\"_parent\"><img src=\"https://colab.research.google.com/assets/colab-badge.svg\" alt=\"Open In Colab\"/></a>"
      ]
    },
    {
      "cell_type": "markdown",
      "source": [
        "# The Wide & Deep arquitecture"
      ],
      "metadata": {
        "id": "EJCYumd1-U4N"
      }
    },
    {
      "cell_type": "markdown",
      "source": [
        "# A brief example on California Housing dataset"
      ],
      "metadata": {
        "id": "f35F_Kmr-erL"
      }
    },
    {
      "cell_type": "code",
      "execution_count": 1,
      "metadata": {
        "id": "QBlA6vne1Uds"
      },
      "outputs": [],
      "source": [
        "import tensorflow as tf\n",
        "from sklearn.datasets import fetch_california_housing\n",
        "\n",
        "\n",
        "housing = fetch_california_housing()\n"
      ]
    },
    {
      "cell_type": "code",
      "source": [
        "X = housing.data\n",
        "y = housing.target"
      ],
      "metadata": {
        "id": "nQnYcAgE6Im1"
      },
      "execution_count": 2,
      "outputs": []
    },
    {
      "cell_type": "code",
      "source": [
        "from sklearn.model_selection import train_test_split\n",
        "\n",
        "X_train, X_test, y_train, y_test = train_test_split(X, y, test_size=0.2)"
      ],
      "metadata": {
        "id": "AubnRXjy6UHb"
      },
      "execution_count": 3,
      "outputs": []
    },
    {
      "cell_type": "code",
      "source": [
        "normalization_layer = tf.keras.layers.Normalization()\n",
        "hidden_layer1 = tf.keras.layers.Dense(30, activation=\"relu\")\n",
        "hidden_layer2 = tf.keras.layers.Dense(30, activation=\"relu\")\n",
        "concat_layer = tf.keras.layers.Concatenate()\n",
        "output_layer = tf.keras.layers.Dense(1)"
      ],
      "metadata": {
        "id": "JGo1knz52B_7"
      },
      "execution_count": 7,
      "outputs": []
    },
    {
      "cell_type": "code",
      "source": [
        "input_ = tf.keras.layers.Input(shape=X_train.shape[1:])\n",
        "normalized = normalization_layer(input_)\n",
        "hidden1 = hidden_layer1(normalized)\n",
        "hidden2 = hidden_layer2(hidden1)\n",
        "concat = concat_layer([normalized, hidden2])\n",
        "output = output_layer(concat)"
      ],
      "metadata": {
        "id": "6mEU0QVK3udd"
      },
      "execution_count": 8,
      "outputs": []
    },
    {
      "cell_type": "code",
      "source": [
        "model = tf.keras.Model(inputs=[input_], outputs=[output])"
      ],
      "metadata": {
        "id": "Zala_mgA3clT"
      },
      "execution_count": 9,
      "outputs": []
    },
    {
      "cell_type": "code",
      "source": [
        "model.compile(loss=tf.keras.losses.MeanSquaredError(),\n",
        "              metrics =[tf.keras.metrics.RootMeanSquaredError()],\n",
        "              optimizer=tf.keras.optimizers.Adam())"
      ],
      "metadata": {
        "id": "2d1TymMt6jfy"
      },
      "execution_count": 10,
      "outputs": []
    },
    {
      "cell_type": "code",
      "source": [
        "normalization_layer.adapt(X_train)"
      ],
      "metadata": {
        "id": "FrQml-ibDg-w"
      },
      "execution_count": 11,
      "outputs": []
    },
    {
      "cell_type": "code",
      "source": [
        "model.fit(X_train, y_train, epochs=20, validation_data=(X_test, y_test))"
      ],
      "metadata": {
        "colab": {
          "base_uri": "https://localhost:8080/"
        },
        "id": "8nlVyCjx7Qee",
        "outputId": "65087945-8934-447e-94ff-9224ab112206"
      },
      "execution_count": 12,
      "outputs": [
        {
          "output_type": "stream",
          "name": "stdout",
          "text": [
            "Epoch 1/20\n",
            "516/516 [==============================] - 2s 3ms/step - loss: 1.2319 - root_mean_squared_error: 1.1099 - val_loss: 0.4939 - val_root_mean_squared_error: 0.7027\n",
            "Epoch 2/20\n",
            "516/516 [==============================] - 2s 4ms/step - loss: 0.4281 - root_mean_squared_error: 0.6543 - val_loss: 0.4238 - val_root_mean_squared_error: 0.6510\n",
            "Epoch 3/20\n",
            "516/516 [==============================] - 2s 3ms/step - loss: 0.3778 - root_mean_squared_error: 0.6147 - val_loss: 0.4402 - val_root_mean_squared_error: 0.6635\n",
            "Epoch 4/20\n",
            "516/516 [==============================] - 2s 3ms/step - loss: 0.3707 - root_mean_squared_error: 0.6089 - val_loss: 0.3840 - val_root_mean_squared_error: 0.6197\n",
            "Epoch 5/20\n",
            "516/516 [==============================] - 1s 2ms/step - loss: 0.3577 - root_mean_squared_error: 0.5981 - val_loss: 0.4044 - val_root_mean_squared_error: 0.6359\n",
            "Epoch 6/20\n",
            "516/516 [==============================] - 1s 2ms/step - loss: 0.3416 - root_mean_squared_error: 0.5845 - val_loss: 0.4328 - val_root_mean_squared_error: 0.6579\n",
            "Epoch 7/20\n",
            "516/516 [==============================] - 1s 2ms/step - loss: 0.3475 - root_mean_squared_error: 0.5895 - val_loss: 0.4190 - val_root_mean_squared_error: 0.6473\n",
            "Epoch 8/20\n",
            "516/516 [==============================] - 1s 2ms/step - loss: 0.3311 - root_mean_squared_error: 0.5754 - val_loss: 0.3413 - val_root_mean_squared_error: 0.5842\n",
            "Epoch 9/20\n",
            "516/516 [==============================] - 1s 2ms/step - loss: 0.3206 - root_mean_squared_error: 0.5662 - val_loss: 0.3522 - val_root_mean_squared_error: 0.5935\n",
            "Epoch 10/20\n",
            "516/516 [==============================] - 1s 2ms/step - loss: 0.3213 - root_mean_squared_error: 0.5668 - val_loss: 0.3343 - val_root_mean_squared_error: 0.5782\n",
            "Epoch 11/20\n",
            "516/516 [==============================] - 1s 2ms/step - loss: 0.3112 - root_mean_squared_error: 0.5579 - val_loss: 0.3246 - val_root_mean_squared_error: 0.5698\n",
            "Epoch 12/20\n",
            "516/516 [==============================] - 1s 2ms/step - loss: 0.3116 - root_mean_squared_error: 0.5582 - val_loss: 0.3991 - val_root_mean_squared_error: 0.6318\n",
            "Epoch 13/20\n",
            "516/516 [==============================] - 1s 3ms/step - loss: 0.3169 - root_mean_squared_error: 0.5629 - val_loss: 0.4729 - val_root_mean_squared_error: 0.6877\n",
            "Epoch 14/20\n",
            "516/516 [==============================] - 2s 3ms/step - loss: 0.3026 - root_mean_squared_error: 0.5501 - val_loss: 0.3222 - val_root_mean_squared_error: 0.5677\n",
            "Epoch 15/20\n",
            "516/516 [==============================] - 1s 2ms/step - loss: 0.3101 - root_mean_squared_error: 0.5568 - val_loss: 0.3317 - val_root_mean_squared_error: 0.5759\n",
            "Epoch 16/20\n",
            "516/516 [==============================] - 1s 2ms/step - loss: 0.2951 - root_mean_squared_error: 0.5432 - val_loss: 0.3128 - val_root_mean_squared_error: 0.5593\n",
            "Epoch 17/20\n",
            "516/516 [==============================] - 1s 2ms/step - loss: 0.2976 - root_mean_squared_error: 0.5455 - val_loss: 0.4646 - val_root_mean_squared_error: 0.6816\n",
            "Epoch 18/20\n",
            "516/516 [==============================] - 1s 2ms/step - loss: 0.3039 - root_mean_squared_error: 0.5513 - val_loss: 0.3281 - val_root_mean_squared_error: 0.5728\n",
            "Epoch 19/20\n",
            "516/516 [==============================] - 1s 2ms/step - loss: 0.2916 - root_mean_squared_error: 0.5400 - val_loss: 0.3148 - val_root_mean_squared_error: 0.5610\n",
            "Epoch 20/20\n",
            "516/516 [==============================] - 1s 2ms/step - loss: 0.2881 - root_mean_squared_error: 0.5367 - val_loss: 0.3146 - val_root_mean_squared_error: 0.5609\n"
          ]
        },
        {
          "output_type": "execute_result",
          "data": {
            "text/plain": [
              "<keras.callbacks.History at 0x7f6087e03eb0>"
            ]
          },
          "metadata": {},
          "execution_count": 12
        }
      ]
    },
    {
      "cell_type": "markdown",
      "source": [
        "# And if different features data subsets flow to each path?"
      ],
      "metadata": {
        "id": "AnceD-o3-T2A"
      }
    },
    {
      "cell_type": "code",
      "source": [
        "import tensorflow as tf\n",
        "\n",
        "\n",
        "input_wide = tf.keras.layers.Input(shape=[5], name=\"input_wide\")\n",
        "input_deep = tf.keras.layers.Input(shape=[6], name=\"input_deep\")\n",
        "norm_layer_wide = tf.keras.layers.Normalization()\n",
        "norm_layer_deep = tf.keras.layers.Normalization()\n",
        "norm_wide = norm_layer_wide(input_wide)\n",
        "norm_deep = norm_layer_deep(input_deep)\n",
        "hidden1 = tf.keras.layers.Dense(30, activation=\"relu\")(norm_deep)\n",
        "hidden2 = tf.keras.layers.Dense(30, activation=\"relu\")(hidden1)\n",
        "concat = tf.keras.layers.concatenate([norm_wide, hidden2])\n",
        "output = tf.keras.layers.Dense(1)(concat)\n",
        "model = tf.keras.Model(inputs=[input_wide, input_deep], outputs=[output])"
      ],
      "metadata": {
        "id": "_p2qexDt-1bT"
      },
      "execution_count": 13,
      "outputs": []
    },
    {
      "cell_type": "code",
      "source": [
        "optimizer = tf.keras.optimizers.Adam(learning_rate=1e-3)\n",
        "model.compile(loss=\"mse\",\n",
        "              optimizer=optimizer,\n",
        "              metrics=[\"RootMeanSquaredError\"])"
      ],
      "metadata": {
        "id": "wPmOVIsCEd4U"
      },
      "execution_count": 14,
      "outputs": []
    },
    {
      "cell_type": "code",
      "source": [
        "X_train_wide, X_train_deep = X_train[:, :5], X_train[:, 2:]\n",
        "X_test_wide, X_test_deep = X_test[:, :5], X_test[:, 2:]\n"
      ],
      "metadata": {
        "id": "QLClwLj9D-YT"
      },
      "execution_count": 15,
      "outputs": []
    },
    {
      "cell_type": "code",
      "source": [
        "X_train_wide.shape"
      ],
      "metadata": {
        "colab": {
          "base_uri": "https://localhost:8080/"
        },
        "id": "rrVTyzqyGoEg",
        "outputId": "c1882ecf-983a-4668-d063-44cfe9b5b3c4"
      },
      "execution_count": 16,
      "outputs": [
        {
          "output_type": "execute_result",
          "data": {
            "text/plain": [
              "(16512, 5)"
            ]
          },
          "metadata": {},
          "execution_count": 16
        }
      ]
    },
    {
      "cell_type": "code",
      "source": [
        "norm_layer_wide.adapt(X_train_wide)\n",
        "norm_layer_deep.adapt(X_train_deep)\n"
      ],
      "metadata": {
        "id": "NqdG0pLMFT1V"
      },
      "execution_count": 17,
      "outputs": []
    },
    {
      "cell_type": "code",
      "source": [
        "history = model.fit({\"input_wide\": X_train_wide, \"input_deep\": X_train_deep},\n",
        "                    y_train,\n",
        "                    epochs=20,\n",
        "                    validation_data=((X_test_wide, X_test_deep), y_test))\n"
      ],
      "metadata": {
        "colab": {
          "base_uri": "https://localhost:8080/"
        },
        "id": "mFZP2XfmGQqN",
        "outputId": "5253ea12-59db-4df6-f33d-999b4c017e0b"
      },
      "execution_count": 18,
      "outputs": [
        {
          "output_type": "stream",
          "name": "stdout",
          "text": [
            "Epoch 1/20\n",
            "516/516 [==============================] - 4s 5ms/step - loss: 1.2413 - root_mean_squared_error: 1.1141 - val_loss: 0.5902 - val_root_mean_squared_error: 0.7683\n",
            "Epoch 2/20\n",
            "516/516 [==============================] - 1s 2ms/step - loss: 0.5024 - root_mean_squared_error: 0.7088 - val_loss: 0.4510 - val_root_mean_squared_error: 0.6716\n",
            "Epoch 3/20\n",
            "516/516 [==============================] - 1s 2ms/step - loss: 0.4297 - root_mean_squared_error: 0.6555 - val_loss: 0.4175 - val_root_mean_squared_error: 0.6462\n",
            "Epoch 4/20\n",
            "516/516 [==============================] - 1s 2ms/step - loss: 0.3984 - root_mean_squared_error: 0.6312 - val_loss: 0.3887 - val_root_mean_squared_error: 0.6235\n",
            "Epoch 5/20\n",
            "516/516 [==============================] - 1s 2ms/step - loss: 0.3887 - root_mean_squared_error: 0.6235 - val_loss: 0.3887 - val_root_mean_squared_error: 0.6235\n",
            "Epoch 6/20\n",
            "516/516 [==============================] - 1s 2ms/step - loss: 0.3788 - root_mean_squared_error: 0.6154 - val_loss: 0.3735 - val_root_mean_squared_error: 0.6111\n",
            "Epoch 7/20\n",
            "516/516 [==============================] - 1s 2ms/step - loss: 0.3621 - root_mean_squared_error: 0.6017 - val_loss: 0.3675 - val_root_mean_squared_error: 0.6062\n",
            "Epoch 8/20\n",
            "516/516 [==============================] - 1s 2ms/step - loss: 0.3551 - root_mean_squared_error: 0.5959 - val_loss: 0.3608 - val_root_mean_squared_error: 0.6007\n",
            "Epoch 9/20\n",
            "516/516 [==============================] - 1s 2ms/step - loss: 0.3697 - root_mean_squared_error: 0.6081 - val_loss: 0.3510 - val_root_mean_squared_error: 0.5924\n",
            "Epoch 10/20\n",
            "516/516 [==============================] - 1s 2ms/step - loss: 0.3490 - root_mean_squared_error: 0.5907 - val_loss: 0.3581 - val_root_mean_squared_error: 0.5984\n",
            "Epoch 11/20\n",
            "516/516 [==============================] - 2s 3ms/step - loss: 0.3392 - root_mean_squared_error: 0.5824 - val_loss: 0.3466 - val_root_mean_squared_error: 0.5887\n",
            "Epoch 12/20\n",
            "516/516 [==============================] - 1s 3ms/step - loss: 0.3323 - root_mean_squared_error: 0.5765 - val_loss: 0.3526 - val_root_mean_squared_error: 0.5938\n",
            "Epoch 13/20\n",
            "516/516 [==============================] - 1s 2ms/step - loss: 0.3310 - root_mean_squared_error: 0.5753 - val_loss: 0.3427 - val_root_mean_squared_error: 0.5854\n",
            "Epoch 14/20\n",
            "516/516 [==============================] - 1s 2ms/step - loss: 0.3299 - root_mean_squared_error: 0.5744 - val_loss: 0.3558 - val_root_mean_squared_error: 0.5965\n",
            "Epoch 15/20\n",
            "516/516 [==============================] - 1s 2ms/step - loss: 0.3279 - root_mean_squared_error: 0.5726 - val_loss: 0.3418 - val_root_mean_squared_error: 0.5846\n",
            "Epoch 16/20\n",
            "516/516 [==============================] - 1s 2ms/step - loss: 0.3259 - root_mean_squared_error: 0.5709 - val_loss: 0.3321 - val_root_mean_squared_error: 0.5763\n",
            "Epoch 17/20\n",
            "516/516 [==============================] - 1s 2ms/step - loss: 0.3257 - root_mean_squared_error: 0.5707 - val_loss: 0.3339 - val_root_mean_squared_error: 0.5779\n",
            "Epoch 18/20\n",
            "516/516 [==============================] - 1s 2ms/step - loss: 0.3191 - root_mean_squared_error: 0.5649 - val_loss: 0.3392 - val_root_mean_squared_error: 0.5824\n",
            "Epoch 19/20\n",
            "516/516 [==============================] - 1s 2ms/step - loss: 0.3168 - root_mean_squared_error: 0.5629 - val_loss: 0.3317 - val_root_mean_squared_error: 0.5759\n",
            "Epoch 20/20\n",
            "516/516 [==============================] - 1s 2ms/step - loss: 0.3143 - root_mean_squared_error: 0.5606 - val_loss: 0.3260 - val_root_mean_squared_error: 0.5710\n"
          ]
        }
      ]
    },
    {
      "cell_type": "code",
      "source": [
        "X_new_wide, X_new_deep = X_test_wide[:3], X_test_deep[:3]\n",
        "mse_test = model.evaluate((X_test_wide, X_test_deep), y_test)\n",
        "y_pred = model.predict((X_new_wide, X_new_deep))"
      ],
      "metadata": {
        "colab": {
          "base_uri": "https://localhost:8080/"
        },
        "id": "XbMk-oRbGR-M",
        "outputId": "83eb2017-d64d-4035-d52a-2c9fa4dad9e6"
      },
      "execution_count": 11,
      "outputs": [
        {
          "output_type": "stream",
          "name": "stdout",
          "text": [
            "129/129 [==============================] - 0s 3ms/step - loss: 0.3266 - root_mean_squared_error: 0.5715\n",
            "1/1 [==============================] - 0s 214ms/step\n"
          ]
        }
      ]
    },
    {
      "cell_type": "markdown",
      "source": [
        "## Adding a auxiliary output"
      ],
      "metadata": {
        "id": "UMPqUibWJnOE"
      }
    },
    {
      "cell_type": "code",
      "source": [
        "input_wide = tf.keras.layers.Input(shape=[5], name=\"input_wide\")\n",
        "input_deep = tf.keras.layers.Input(shape=[6], name=\"input_deep\")\n",
        "norm_layer_wide = tf.keras.layers.Normalization()\n",
        "norm_layer_deep = tf.keras.layers.Normalization()\n",
        "norm_wide = norm_layer_wide(input_wide)\n",
        "norm_deep = norm_layer_deep(input_deep)\n",
        "hidden1 = tf.keras.layers.Dense(30, activation=\"relu\")(norm_deep)\n",
        "hidden2 = tf.keras.layers.Dense(30, activation=\"relu\")(hidden1)\n",
        "concat = tf.keras.layers.concatenate([norm_wide, hidden2])\n",
        "output = tf.keras.layers.Dense(1)(concat)\n",
        "aux_output = tf.keras.layers.Dense(1)(hidden2)\n",
        "model = tf.keras.Model(inputs=[input_wide, input_deep],\n",
        "                       outputs=[output, aux_output])"
      ],
      "metadata": {
        "id": "8zurn81MJqct"
      },
      "execution_count": 24,
      "outputs": []
    },
    {
      "cell_type": "code",
      "source": [
        "optimizer = tf.keras.optimizers.Adam(learning_rate=1e-3)\n",
        "model.compile(loss=(\"mse\", \"mse\"),\n",
        "              loss_weights=(0.9, 0.1),\n",
        "              optimizer=optimizer,\n",
        "              metrics=[\"RootMeanSquaredError\"])"
      ],
      "metadata": {
        "id": "m299RYFNKT32"
      },
      "execution_count": 25,
      "outputs": []
    },
    {
      "cell_type": "code",
      "source": [
        "norm_layer_wide.adapt(X_train_wide)\n",
        "norm_layer_deep.adapt(X_train_deep)\n",
        "history = model.fit(\n",
        "    (X_train_wide, X_train_deep),\n",
        "    (y_train, y_train),\n",
        "    epochs=20,\n",
        "    validation_data=((X_test_wide, X_test_deep), (y_test, y_test))\n",
        ")"
      ],
      "metadata": {
        "colab": {
          "base_uri": "https://localhost:8080/"
        },
        "id": "CNyb99jUK9tt",
        "outputId": "67b64bb7-9493-4d06-8993-c091d79efd8d"
      },
      "execution_count": 26,
      "outputs": [
        {
          "output_type": "stream",
          "name": "stdout",
          "text": [
            "Epoch 1/20\n",
            "516/516 [==============================] - 3s 3ms/step - loss: 1.3006 - dense_16_loss: 1.2710 - dense_17_loss: 1.5674 - dense_16_root_mean_squared_error: 1.1274 - dense_17_root_mean_squared_error: 1.2519 - val_loss: 0.5755 - val_dense_16_loss: 0.5516 - val_dense_17_loss: 0.7907 - val_dense_16_root_mean_squared_error: 0.7427 - val_dense_17_root_mean_squared_error: 0.8892\n",
            "Epoch 2/20\n",
            "516/516 [==============================] - 1s 2ms/step - loss: 0.4973 - dense_16_loss: 0.4758 - dense_17_loss: 0.6908 - dense_16_root_mean_squared_error: 0.6898 - dense_17_root_mean_squared_error: 0.8312 - val_loss: 0.4455 - val_dense_16_loss: 0.4281 - val_dense_17_loss: 0.6024 - val_dense_16_root_mean_squared_error: 0.6543 - val_dense_17_root_mean_squared_error: 0.7762\n",
            "Epoch 3/20\n",
            "516/516 [==============================] - 1s 2ms/step - loss: 0.4518 - dense_16_loss: 0.4359 - dense_17_loss: 0.5950 - dense_16_root_mean_squared_error: 0.6602 - dense_17_root_mean_squared_error: 0.7713 - val_loss: 0.4186 - val_dense_16_loss: 0.4035 - val_dense_17_loss: 0.5546 - val_dense_16_root_mean_squared_error: 0.6352 - val_dense_17_root_mean_squared_error: 0.7447\n",
            "Epoch 4/20\n",
            "516/516 [==============================] - 2s 3ms/step - loss: 0.4151 - dense_16_loss: 0.3996 - dense_17_loss: 0.5554 - dense_16_root_mean_squared_error: 0.6321 - dense_17_root_mean_squared_error: 0.7452 - val_loss: 0.4042 - val_dense_16_loss: 0.3905 - val_dense_17_loss: 0.5270 - val_dense_16_root_mean_squared_error: 0.6249 - val_dense_17_root_mean_squared_error: 0.7259\n",
            "Epoch 5/20\n",
            "516/516 [==============================] - 2s 4ms/step - loss: 0.3975 - dense_16_loss: 0.3833 - dense_17_loss: 0.5249 - dense_16_root_mean_squared_error: 0.6191 - dense_17_root_mean_squared_error: 0.7245 - val_loss: 0.3853 - val_dense_16_loss: 0.3747 - val_dense_17_loss: 0.4806 - val_dense_16_root_mean_squared_error: 0.6121 - val_dense_17_root_mean_squared_error: 0.6932\n",
            "Epoch 6/20\n",
            "516/516 [==============================] - 1s 3ms/step - loss: 0.3880 - dense_16_loss: 0.3772 - dense_17_loss: 0.4849 - dense_16_root_mean_squared_error: 0.6142 - dense_17_root_mean_squared_error: 0.6963 - val_loss: 0.3726 - val_dense_16_loss: 0.3638 - val_dense_17_loss: 0.4519 - val_dense_16_root_mean_squared_error: 0.6031 - val_dense_17_root_mean_squared_error: 0.6723\n",
            "Epoch 7/20\n",
            "516/516 [==============================] - 2s 5ms/step - loss: 0.3667 - dense_16_loss: 0.3574 - dense_17_loss: 0.4501 - dense_16_root_mean_squared_error: 0.5979 - dense_17_root_mean_squared_error: 0.6709 - val_loss: 0.3669 - val_dense_16_loss: 0.3590 - val_dense_17_loss: 0.4377 - val_dense_16_root_mean_squared_error: 0.5992 - val_dense_17_root_mean_squared_error: 0.6616\n",
            "Epoch 8/20\n",
            "516/516 [==============================] - 1s 2ms/step - loss: 0.3646 - dense_16_loss: 0.3564 - dense_17_loss: 0.4386 - dense_16_root_mean_squared_error: 0.5970 - dense_17_root_mean_squared_error: 0.6623 - val_loss: 0.3661 - val_dense_16_loss: 0.3591 - val_dense_17_loss: 0.4290 - val_dense_16_root_mean_squared_error: 0.5992 - val_dense_17_root_mean_squared_error: 0.6550\n",
            "Epoch 9/20\n",
            "516/516 [==============================] - 1s 3ms/step - loss: 0.4661 - dense_16_loss: 0.4615 - dense_17_loss: 0.5067 - dense_16_root_mean_squared_error: 0.6794 - dense_17_root_mean_squared_error: 0.7118 - val_loss: 0.3534 - val_dense_16_loss: 0.3466 - val_dense_17_loss: 0.4147 - val_dense_16_root_mean_squared_error: 0.5887 - val_dense_17_root_mean_squared_error: 0.6439\n",
            "Epoch 10/20\n",
            "516/516 [==============================] - 1s 3ms/step - loss: 0.3474 - dense_16_loss: 0.3400 - dense_17_loss: 0.4144 - dense_16_root_mean_squared_error: 0.5831 - dense_17_root_mean_squared_error: 0.6437 - val_loss: 0.3459 - val_dense_16_loss: 0.3392 - val_dense_17_loss: 0.4069 - val_dense_16_root_mean_squared_error: 0.5824 - val_dense_17_root_mean_squared_error: 0.6379\n",
            "Epoch 11/20\n",
            "516/516 [==============================] - 1s 2ms/step - loss: 0.3432 - dense_16_loss: 0.3359 - dense_17_loss: 0.4091 - dense_16_root_mean_squared_error: 0.5796 - dense_17_root_mean_squared_error: 0.6396 - val_loss: 0.3507 - val_dense_16_loss: 0.3436 - val_dense_17_loss: 0.4146 - val_dense_16_root_mean_squared_error: 0.5862 - val_dense_17_root_mean_squared_error: 0.6439\n",
            "Epoch 12/20\n",
            "516/516 [==============================] - 1s 3ms/step - loss: 0.3382 - dense_16_loss: 0.3315 - dense_17_loss: 0.3984 - dense_16_root_mean_squared_error: 0.5757 - dense_17_root_mean_squared_error: 0.6312 - val_loss: 0.3453 - val_dense_16_loss: 0.3392 - val_dense_17_loss: 0.4010 - val_dense_16_root_mean_squared_error: 0.5824 - val_dense_17_root_mean_squared_error: 0.6332\n",
            "Epoch 13/20\n",
            "516/516 [==============================] - 2s 4ms/step - loss: 0.3378 - dense_16_loss: 0.3313 - dense_17_loss: 0.3969 - dense_16_root_mean_squared_error: 0.5756 - dense_17_root_mean_squared_error: 0.6300 - val_loss: 0.3404 - val_dense_16_loss: 0.3344 - val_dense_17_loss: 0.3946 - val_dense_16_root_mean_squared_error: 0.5783 - val_dense_17_root_mean_squared_error: 0.6282\n",
            "Epoch 14/20\n",
            "516/516 [==============================] - 1s 3ms/step - loss: 0.3365 - dense_16_loss: 0.3298 - dense_17_loss: 0.3960 - dense_16_root_mean_squared_error: 0.5743 - dense_17_root_mean_squared_error: 0.6293 - val_loss: 0.3427 - val_dense_16_loss: 0.3364 - val_dense_17_loss: 0.3992 - val_dense_16_root_mean_squared_error: 0.5800 - val_dense_17_root_mean_squared_error: 0.6318\n",
            "Epoch 15/20\n",
            "516/516 [==============================] - 1s 3ms/step - loss: 0.3396 - dense_16_loss: 0.3331 - dense_17_loss: 0.3977 - dense_16_root_mean_squared_error: 0.5772 - dense_17_root_mean_squared_error: 0.6307 - val_loss: 0.3439 - val_dense_16_loss: 0.3382 - val_dense_17_loss: 0.3947 - val_dense_16_root_mean_squared_error: 0.5816 - val_dense_17_root_mean_squared_error: 0.6283\n",
            "Epoch 16/20\n",
            "516/516 [==============================] - 1s 3ms/step - loss: 0.3321 - dense_16_loss: 0.3261 - dense_17_loss: 0.3861 - dense_16_root_mean_squared_error: 0.5710 - dense_17_root_mean_squared_error: 0.6214 - val_loss: 0.3361 - val_dense_16_loss: 0.3304 - val_dense_17_loss: 0.3876 - val_dense_16_root_mean_squared_error: 0.5748 - val_dense_17_root_mean_squared_error: 0.6226\n",
            "Epoch 17/20\n",
            "516/516 [==============================] - 1s 2ms/step - loss: 0.3748 - dense_16_loss: 0.3687 - dense_17_loss: 0.4296 - dense_16_root_mean_squared_error: 0.6072 - dense_17_root_mean_squared_error: 0.6555 - val_loss: 0.3398 - val_dense_16_loss: 0.3339 - val_dense_17_loss: 0.3926 - val_dense_16_root_mean_squared_error: 0.5779 - val_dense_17_root_mean_squared_error: 0.6266\n",
            "Epoch 18/20\n",
            "516/516 [==============================] - 1s 2ms/step - loss: 0.3267 - dense_16_loss: 0.3201 - dense_17_loss: 0.3856 - dense_16_root_mean_squared_error: 0.5658 - dense_17_root_mean_squared_error: 0.6210 - val_loss: 0.3448 - val_dense_16_loss: 0.3384 - val_dense_17_loss: 0.4030 - val_dense_16_root_mean_squared_error: 0.5817 - val_dense_17_root_mean_squared_error: 0.6348\n",
            "Epoch 19/20\n",
            "516/516 [==============================] - 1s 3ms/step - loss: 0.3259 - dense_16_loss: 0.3196 - dense_17_loss: 0.3821 - dense_16_root_mean_squared_error: 0.5653 - dense_17_root_mean_squared_error: 0.6181 - val_loss: 0.3372 - val_dense_16_loss: 0.3315 - val_dense_17_loss: 0.3887 - val_dense_16_root_mean_squared_error: 0.5758 - val_dense_17_root_mean_squared_error: 0.6234\n",
            "Epoch 20/20\n",
            "516/516 [==============================] - 1s 2ms/step - loss: 0.3244 - dense_16_loss: 0.3183 - dense_17_loss: 0.3790 - dense_16_root_mean_squared_error: 0.5642 - dense_17_root_mean_squared_error: 0.6156 - val_loss: 0.3391 - val_dense_16_loss: 0.3332 - val_dense_17_loss: 0.3917 - val_dense_16_root_mean_squared_error: 0.5773 - val_dense_17_root_mean_squared_error: 0.6259\n"
          ]
        }
      ]
    },
    {
      "cell_type": "code",
      "source": [
        "eval_results = model.evaluate((X_test_wide, X_test_deep), (y_test, y_test))\n",
        "weighted_sum_of_losses, main_loss, aux_loss, main_rmse, aux_rmse = eval_results"
      ],
      "metadata": {
        "colab": {
          "base_uri": "https://localhost:8080/"
        },
        "id": "eSv8DUmcL4HM",
        "outputId": "02946cc7-0221-4b43-83df-d60a40d1e685"
      },
      "execution_count": 27,
      "outputs": [
        {
          "output_type": "stream",
          "name": "stdout",
          "text": [
            "129/129 [==============================] - 0s 2ms/step - loss: 0.3391 - dense_16_loss: 0.3332 - dense_17_loss: 0.3917 - dense_16_root_mean_squared_error: 0.5773 - dense_17_root_mean_squared_error: 0.6259\n"
          ]
        }
      ]
    },
    {
      "cell_type": "code",
      "source": [
        "weighted_sum_of_losses"
      ],
      "metadata": {
        "colab": {
          "base_uri": "https://localhost:8080/"
        },
        "id": "BnPIRYYrM5K_",
        "outputId": "f953bdef-d7e9-4482-ec36-51b229a07b36"
      },
      "execution_count": 31,
      "outputs": [
        {
          "output_type": "execute_result",
          "data": {
            "text/plain": [
              "0.3390950560569763"
            ]
          },
          "metadata": {},
          "execution_count": 31
        }
      ]
    },
    {
      "cell_type": "markdown",
      "source": [],
      "metadata": {
        "id": "i2hSDDfWPsvE"
      }
    }
  ]
}